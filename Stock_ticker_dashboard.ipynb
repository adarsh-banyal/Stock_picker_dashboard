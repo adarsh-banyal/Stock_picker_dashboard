{
 "cells": [
  {
   "cell_type": "markdown",
   "id": "e52354b7-8a2a-48d5-bd7d-150a743aa347",
   "metadata": {},
   "source": [
    "# Stock Ticker Dashboard"
   ]
  },
  {
   "cell_type": "code",
   "execution_count": 1,
   "id": "a98dfc2d-af75-4f46-91d0-697df1552540",
   "metadata": {},
   "outputs": [],
   "source": [
    "import dash\n",
    "from dash import dcc\n",
    "from dash import html\n",
    "from dash.dependencies import Input, Output, State\n",
    "import pandas_datareader.data as web\n",
    "from datetime import datetime\n",
    "import pandas as pd\n",
    "import os\n"
   ]
  },
  {
   "cell_type": "code",
   "execution_count": 2,
   "id": "7f451b49-dadf-43c1-a65d-77f4b98331d8",
   "metadata": {},
   "outputs": [],
   "source": [
    "app = dash.Dash()"
   ]
  },
  {
   "cell_type": "code",
   "execution_count": 3,
   "id": "908167d0-44c6-4635-ad08-d619422537cc",
   "metadata": {},
   "outputs": [],
   "source": [
    "nsdq = pd.read_csv('nasdaq_screener.csv')"
   ]
  },
  {
   "cell_type": "code",
   "execution_count": 4,
   "id": "e8d5d793-40e1-4916-9d85-e3969dcc4eab",
   "metadata": {},
   "outputs": [],
   "source": [
    "nsdq.set_index('Symbol', inplace=True)"
   ]
  },
  {
   "cell_type": "code",
   "execution_count": 5,
   "id": "db3c505f-4bf8-4ce8-80bc-ad6a0fc6612e",
   "metadata": {},
   "outputs": [],
   "source": [
    "options = []\n",
    "for tic in nsdq.index:\n",
    "    options.append({'label':'{} {}'.format(tic,nsdq.loc[tic]['Name']), 'value':tic})"
   ]
  },
  {
   "cell_type": "code",
   "execution_count": 6,
   "id": "7820da38-6bcb-4364-b2f2-23345e6ca5f1",
   "metadata": {},
   "outputs": [],
   "source": [
    "app.layout = html.Div([\n",
    "    html.H1('Stock Ticker Dashboard'),\n",
    "    html.Div([\n",
    "        html.H3('Select stock symbols:', style={'paddingRight':'30px'}),\n",
    "        dcc.Dropdown(\n",
    "            id='my_ticker_symbol',\n",
    "            options=options,\n",
    "            value=['TSLA'],\n",
    "            multi=True\n",
    "        )\n",
    "    ], style={'display':'inline-block', 'verticalAlign':'top', 'width':'30%'}),\n",
    "    html.Div([\n",
    "        html.H3('Select start and end dates:'),\n",
    "        dcc.DatePickerRange(\n",
    "            id='my_date_picker',\n",
    "            min_date_allowed=datetime(2015, 1, 1),\n",
    "            max_date_allowed=datetime.today(),\n",
    "            start_date=datetime(2018, 1, 1),\n",
    "            end_date=datetime.today()\n",
    "        )\n",
    "    ], style={'display':'inline-block'}),\n",
    "    html.Div([\n",
    "        html.Button(\n",
    "            id='submit-button',\n",
    "            n_clicks=0,\n",
    "            children='Submit',\n",
    "            style={'fontSize':24, 'marginLeft':'30px'}\n",
    "        ),\n",
    "    ], style={'display':'inline-block'}),\n",
    "    dcc.Graph(\n",
    "        id='my_graph',\n",
    "        figure={\n",
    "            'data': [\n",
    "                {'x': [1,2], 'y': [3,1]}\n",
    "            ]\n",
    "        }\n",
    "    )\n",
    "])"
   ]
  },
  {
   "cell_type": "code",
   "execution_count": 7,
   "id": "dfe1c3ac-abc4-4a0c-a424-bb70e056690d",
   "metadata": {},
   "outputs": [],
   "source": [
    "@app.callback(\n",
    "    Output('my_graph', 'figure'),\n",
    "    [Input('submit-button', 'n_clicks')],\n",
    "    [State('my_ticker_symbol', 'value'),\n",
    "    State('my_date_picker', 'start_date'),\n",
    "    State('my_date_picker', 'end_date')])\n",
    "\n",
    "def update_graph(n_clicks, stock_ticker, start_date, end_date):\n",
    "    start = datetime.strptime(start_date[:10], '%Y-%m-%d')\n",
    "    end = datetime.strptime(end_date[:10], '%Y-%m-%d')\n",
    "    traces = []\n",
    "    for tic in stock_ticker:\n",
    "        df = web.DataReader(tic,'iex',start,end)\n",
    "        traces.append({'x':df.index, 'y': df.close, 'name':tic})\n",
    "    fig = {\n",
    "        'data': traces,\n",
    "        'layout': {'title':', '.join(stock_ticker)+' Closing Prices'}\n",
    "    }\n",
    "    return fig"
   ]
  },
  {
   "cell_type": "code",
   "execution_count": 8,
   "id": "aa389f04-3989-464d-a9ff-8e711f7a5b41",
   "metadata": {},
   "outputs": [],
   "source": [
    "os.environ[\"IEX_API_KEY\"] =\"pk_8caed3ed9e17429996e51b7a3778397a\""
   ]
  },
  {
   "cell_type": "code",
   "execution_count": 9,
   "id": "2a5a9cc8-b387-4e92-92c1-0dc6adb021a3",
   "metadata": {
    "scrolled": true
   },
   "outputs": [
    {
     "name": "stdout",
     "output_type": "stream",
     "text": [
      "Dash app running on http://127.0.0.1:8050/\n"
     ]
    }
   ],
   "source": [
    "if __name__ == '__main__':\n",
    "    app.run(jupyter_mode='external')"
   ]
  },
  {
   "cell_type": "code",
   "execution_count": null,
   "id": "7c712d19-55cb-425e-bffa-13c97aa2d551",
   "metadata": {},
   "outputs": [],
   "source": []
  },
  {
   "cell_type": "code",
   "execution_count": null,
   "id": "d007be2a-5315-4d85-83f3-c2626f4a7b48",
   "metadata": {},
   "outputs": [],
   "source": []
  }
 ],
 "metadata": {
  "kernelspec": {
   "display_name": "Python 3 (ipykernel)",
   "language": "python",
   "name": "python3"
  },
  "language_info": {
   "codemirror_mode": {
    "name": "ipython",
    "version": 3
   },
   "file_extension": ".py",
   "mimetype": "text/x-python",
   "name": "python",
   "nbconvert_exporter": "python",
   "pygments_lexer": "ipython3",
   "version": "3.11.7"
  }
 },
 "nbformat": 4,
 "nbformat_minor": 5
}
